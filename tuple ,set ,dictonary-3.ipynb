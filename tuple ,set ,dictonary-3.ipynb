{
 "cells": [
  {
   "cell_type": "code",
   "execution_count": 1,
   "id": "1dd9874a",
   "metadata": {},
   "outputs": [],
   "source": [
    "l=[3,4,5,6]"
   ]
  },
  {
   "cell_type": "code",
   "execution_count": 2,
   "id": "09af7375",
   "metadata": {},
   "outputs": [
    {
     "data": {
      "text/plain": [
       "{3, 4, 5, 6}"
      ]
     },
     "execution_count": 2,
     "metadata": {},
     "output_type": "execute_result"
    }
   ],
   "source": [
    "set(l)"
   ]
  },
  {
   "cell_type": "markdown",
   "id": "c15ed275",
   "metadata": {},
   "source": [
    "list converted to set."
   ]
  },
  {
   "cell_type": "markdown",
   "id": "ee9a51c5",
   "metadata": {},
   "source": [
    "# Dictonary"
   ]
  },
  {
   "cell_type": "markdown",
   "id": "961b4b51",
   "metadata": {},
   "source": [
    "a type of collection where we will be able to store any number of elements and we will be able to acess it.\n",
    "examp-oxford dictonary\n",
    "gives word and its meanings.\n",
    "In programing languages here we can store the things in key and value pair.\n"
   ]
  },
  {
   "cell_type": "code",
   "execution_count": 3,
   "id": "9f15d1a6",
   "metadata": {},
   "outputs": [],
   "source": [
    "d={}"
   ]
  },
  {
   "cell_type": "code",
   "execution_count": 4,
   "id": "ce7fba9d",
   "metadata": {},
   "outputs": [
    {
     "data": {
      "text/plain": [
       "dict"
      ]
     },
     "execution_count": 4,
     "metadata": {},
     "output_type": "execute_result"
    }
   ],
   "source": [
    "type(d)"
   ]
  },
  {
   "cell_type": "code",
   "execution_count": 5,
   "id": "4cff46fd",
   "metadata": {},
   "outputs": [],
   "source": [
    "s={23,344,434}"
   ]
  },
  {
   "cell_type": "code",
   "execution_count": 6,
   "id": "317ee631",
   "metadata": {},
   "outputs": [
    {
     "data": {
      "text/plain": [
       "set"
      ]
     },
     "execution_count": 6,
     "metadata": {},
     "output_type": "execute_result"
    }
   ],
   "source": [
    "type(s)"
   ]
  },
  {
   "cell_type": "markdown",
   "id": "a0ed874b",
   "metadata": {},
   "source": [
    "sometimes a particular word gives ultiple meaning."
   ]
  },
  {
   "cell_type": "code",
   "execution_count": 7,
   "id": "529bd69a",
   "metadata": {},
   "outputs": [],
   "source": [
    "d={4:\"sudh\"}"
   ]
  },
  {
   "cell_type": "markdown",
   "id": "df129194",
   "metadata": {},
   "source": [
    "here 4 is key and \"sudh\" is respective values.Dictonary holds the data as a key and value pair."
   ]
  },
  {
   "cell_type": "code",
   "execution_count": 9,
   "id": "1c655271",
   "metadata": {},
   "outputs": [],
   "source": [
    "d1={\"key1\":232,\"key2\":\"sudh\",45:[23,4,242,2]}"
   ]
  },
  {
   "cell_type": "code",
   "execution_count": 10,
   "id": "93bb0375",
   "metadata": {},
   "outputs": [],
   "source": [
    "l=[3,4,5,6,7]"
   ]
  },
  {
   "cell_type": "markdown",
   "id": "edcd7e3c",
   "metadata": {},
   "source": [
    "for ourunderstandindgs we can say the index 0 is the key and 3 is the respective value.means in dictionary we can create our own index or we can assign a name to the indexes. "
   ]
  },
  {
   "cell_type": "code",
   "execution_count": 11,
   "id": "9c655f1d",
   "metadata": {},
   "outputs": [
    {
     "data": {
      "text/plain": [
       "{'key1': 232, 'key2': 'sudh', 45: [23, 4, 242, 2]}"
      ]
     },
     "execution_count": 11,
     "metadata": {},
     "output_type": "execute_result"
    }
   ],
   "source": [
    "d1"
   ]
  },
  {
   "cell_type": "code",
   "execution_count": 12,
   "id": "97fd11fa",
   "metadata": {},
   "outputs": [
    {
     "data": {
      "text/plain": [
       "[3, 4, 5, 6, 7]"
      ]
     },
     "execution_count": 12,
     "metadata": {},
     "output_type": "execute_result"
    }
   ],
   "source": [
    "l"
   ]
  },
  {
   "cell_type": "code",
   "execution_count": 13,
   "id": "a68c40c3",
   "metadata": {},
   "outputs": [
    {
     "data": {
      "text/plain": [
       "3"
      ]
     },
     "execution_count": 13,
     "metadata": {},
     "output_type": "execute_result"
    }
   ],
   "source": [
    "l[0]"
   ]
  },
  {
   "cell_type": "code",
   "execution_count": 14,
   "id": "0efd2caf",
   "metadata": {},
   "outputs": [
    {
     "ename": "KeyError",
     "evalue": "0",
     "output_type": "error",
     "traceback": [
      "\u001b[0;31m---------------------------------------------------------------------------\u001b[0m",
      "\u001b[0;31mKeyError\u001b[0m                                  Traceback (most recent call last)",
      "\u001b[0;32m<ipython-input-14-f64ff61913e8>\u001b[0m in \u001b[0;36m<module>\u001b[0;34m\u001b[0m\n\u001b[0;32m----> 1\u001b[0;31m \u001b[0md1\u001b[0m\u001b[0;34m[\u001b[0m\u001b[0;36m0\u001b[0m\u001b[0;34m]\u001b[0m\u001b[0;34m\u001b[0m\u001b[0;34m\u001b[0m\u001b[0m\n\u001b[0m",
      "\u001b[0;31mKeyError\u001b[0m: 0"
     ]
    }
   ],
   "source": [
    "d1[0]"
   ]
  },
  {
   "cell_type": "code",
   "execution_count": 15,
   "id": "938d02d6",
   "metadata": {},
   "outputs": [
    {
     "data": {
      "text/plain": [
       "232"
      ]
     },
     "execution_count": 15,
     "metadata": {},
     "output_type": "execute_result"
    }
   ],
   "source": [
    "d1[\"key1\"]"
   ]
  },
  {
   "cell_type": "code",
   "execution_count": 16,
   "id": "a4d526a0",
   "metadata": {},
   "outputs": [
    {
     "data": {
      "text/plain": [
       "[23, 4, 242, 2]"
      ]
     },
     "execution_count": 16,
     "metadata": {},
     "output_type": "execute_result"
    }
   ],
   "source": [
    "d1[45]"
   ]
  },
  {
   "cell_type": "code",
   "execution_count": 17,
   "id": "56721d98",
   "metadata": {},
   "outputs": [
    {
     "data": {
      "text/plain": [
       "'sudh'"
      ]
     },
     "execution_count": 17,
     "metadata": {},
     "output_type": "execute_result"
    }
   ],
   "source": [
    "d1[\"key2\"]"
   ]
  },
  {
   "cell_type": "markdown",
   "id": "053a4edc",
   "metadata": {},
   "source": [
    "# properties\n"
   ]
  },
  {
   "cell_type": "code",
   "execution_count": 19,
   "id": "3f381f88",
   "metadata": {},
   "outputs": [],
   "source": [
    "d={3:[\"akusmar\",\"kanha\",2,44,542,45,35]}"
   ]
  },
  {
   "cell_type": "code",
   "execution_count": 20,
   "id": "8c8078d6",
   "metadata": {},
   "outputs": [
    {
     "data": {
      "text/plain": [
       "dict"
      ]
     },
     "execution_count": 20,
     "metadata": {},
     "output_type": "execute_result"
    }
   ],
   "source": [
    "type(d)"
   ]
  },
  {
   "cell_type": "code",
   "execution_count": 9,
   "id": "cdec1012",
   "metadata": {},
   "outputs": [
    {
     "ename": "SyntaxError",
     "evalue": "unexpected EOF while parsing (<ipython-input-9-2a6f284552e0>, line 1)",
     "output_type": "error",
     "traceback": [
      "\u001b[0;36m  File \u001b[0;32m\"<ipython-input-9-2a6f284552e0>\"\u001b[0;36m, line \u001b[0;32m1\u001b[0m\n\u001b[0;31m    d={#:[\"akusmar\",\"kanha\",2,44,542,45,35]}\u001b[0m\n\u001b[0m                                            ^\u001b[0m\n\u001b[0;31mSyntaxError\u001b[0m\u001b[0;31m:\u001b[0m unexpected EOF while parsing\n"
     ]
    }
   ],
   "source": [
    "d={#:[\"akusmar\",\"kanha\",2,44,542,45,35]}"
   ]
  },
  {
   "cell_type": "markdown",
   "id": "40041194",
   "metadata": {},
   "source": [
    "Specials case characters cant not be taken as key.but if we put that is aquatition then that becomes string ."
   ]
  },
  {
   "cell_type": "code",
   "execution_count": 11,
   "id": "6f48ff97",
   "metadata": {},
   "outputs": [
    {
     "ename": "NameError",
     "evalue": "name '_4' is not defined",
     "output_type": "error",
     "traceback": [
      "\u001b[0;31m---------------------------------------------------------------------------\u001b[0m",
      "\u001b[0;31mNameError\u001b[0m                                 Traceback (most recent call last)",
      "\u001b[0;32m<ipython-input-11-4c06f091a887>\u001b[0m in \u001b[0;36m<module>\u001b[0;34m\u001b[0m\n\u001b[0;32m----> 1\u001b[0;31m \u001b[0md\u001b[0m\u001b[0;34m=\u001b[0m\u001b[0;34m{\u001b[0m\u001b[0m_4\u001b[0m\u001b[0;34m:\u001b[0m\u001b[0;34m[\u001b[0m\u001b[0;34m\"akusmar\"\u001b[0m\u001b[0;34m,\u001b[0m\u001b[0;34m\"kanha\"\u001b[0m\u001b[0;34m,\u001b[0m\u001b[0;36m2\u001b[0m\u001b[0;34m,\u001b[0m\u001b[0;36m44\u001b[0m\u001b[0;34m,\u001b[0m\u001b[0;36m542\u001b[0m\u001b[0;34m,\u001b[0m\u001b[0;36m45\u001b[0m\u001b[0;34m,\u001b[0m\u001b[0;36m35\u001b[0m\u001b[0;34m]\u001b[0m\u001b[0;34m}\u001b[0m\u001b[0;34m\u001b[0m\u001b[0;34m\u001b[0m\u001b[0m\n\u001b[0m",
      "\u001b[0;31mNameError\u001b[0m: name '_4' is not defined"
     ]
    }
   ],
   "source": [
    "d={_4:[\"akusmar\",\"kanha\",2,44,542,45,35]}"
   ]
  },
  {
   "cell_type": "code",
   "execution_count": 12,
   "id": "05bd8d38",
   "metadata": {},
   "outputs": [],
   "source": [
    "d={\"_4\":[\"akusmar\",\"kanha\",2,44,542,45,35]}"
   ]
  },
  {
   "cell_type": "code",
   "execution_count": 13,
   "id": "dbffa95b",
   "metadata": {},
   "outputs": [],
   "source": [
    "d={\"_4\":[\"akusmar\",\"kanha\",2,44,542,45,35]}"
   ]
  },
  {
   "cell_type": "code",
   "execution_count": 14,
   "id": "ffae8b92",
   "metadata": {},
   "outputs": [],
   "source": [
    "d={\"KEY\":[\"akusmar\",\"kanha\",2,44,542,45,35]}"
   ]
  },
  {
   "cell_type": "code",
   "execution_count": 15,
   "id": "4e1aa60b",
   "metadata": {},
   "outputs": [],
   "source": [
    "d={\"KEY\":(2,44,542,45,35)}"
   ]
  },
  {
   "cell_type": "code",
   "execution_count": 18,
   "id": "37c7a2ba",
   "metadata": {},
   "outputs": [
    {
     "data": {
      "text/plain": [
       "dict"
      ]
     },
     "execution_count": 18,
     "metadata": {},
     "output_type": "execute_result"
    }
   ],
   "source": [
    "type(d)"
   ]
  },
  {
   "cell_type": "code",
   "execution_count": 20,
   "id": "3f24af83",
   "metadata": {},
   "outputs": [],
   "source": [
    "d={\"KEY\":{2,44,542,45,35}}"
   ]
  },
  {
   "cell_type": "markdown",
   "id": "8e12d05a",
   "metadata": {},
   "source": [
    "diff betwn set and dict though both have curly braces is dict has a key valuepair but set dont ."
   ]
  },
  {
   "cell_type": "code",
   "execution_count": 21,
   "id": "c95ef43a",
   "metadata": {},
   "outputs": [],
   "source": [
    "d1={\"key1\":[2,3,4,5],\"key2\":\"sudh\",\"key1\":4244}"
   ]
  },
  {
   "cell_type": "code",
   "execution_count": 22,
   "id": "07b19a0b",
   "metadata": {},
   "outputs": [
    {
     "data": {
      "text/plain": [
       "4244"
      ]
     },
     "execution_count": 22,
     "metadata": {},
     "output_type": "execute_result"
    }
   ],
   "source": [
    "d1[\"key1\"]"
   ]
  },
  {
   "cell_type": "markdown",
   "id": "03f0fc8d",
   "metadata": {},
   "source": [
    "the latest value will be stored always.Key always supposed to be unique.unique vale can be taken for more than one key."
   ]
  },
  {
   "cell_type": "code",
   "execution_count": 24,
   "id": "14cce86d",
   "metadata": {},
   "outputs": [],
   "source": [
    "d1={\"key1\":[2,3,4,5],\"kumar\":\"sudh\",\"key1\":4244}"
   ]
  },
  {
   "cell_type": "code",
   "execution_count": 30,
   "id": "4e092f41",
   "metadata": {},
   "outputs": [],
   "source": [
    "d={\"name\":\"tariniprasad\",\"mo_no\":32411412,\"mail_id\":\"dastprasad@hydh.com\",\"key1\":[313,4242,222,5],\"key2\":(2424,434,424),\"key3\":{6,8,6,6,6,45,78,45,45,455,57,76},\"key4\":{1:5,5:7}}"
   ]
  },
  {
   "cell_type": "markdown",
   "id": "b2effe2d",
   "metadata": {},
   "source": [
    "so value can be anything like string ,list ,tuple,set,dict and etc."
   ]
  },
  {
   "cell_type": "code",
   "execution_count": 32,
   "id": "bfbebc34",
   "metadata": {},
   "outputs": [
    {
     "data": {
      "text/plain": [
       "{6, 8, 45, 57, 76, 78, 455}"
      ]
     },
     "execution_count": 32,
     "metadata": {},
     "output_type": "execute_result"
    }
   ],
   "source": [
    "d[\"key3\"]"
   ]
  },
  {
   "cell_type": "code",
   "execution_count": 35,
   "id": "135335df",
   "metadata": {},
   "outputs": [
    {
     "data": {
      "text/plain": [
       "set"
      ]
     },
     "execution_count": 35,
     "metadata": {},
     "output_type": "execute_result"
    }
   ],
   "source": [
    "type(d[\"key3\"])"
   ]
  },
  {
   "cell_type": "code",
   "execution_count": 36,
   "id": "b982b343",
   "metadata": {},
   "outputs": [
    {
     "data": {
      "text/plain": [
       "{1: 5, 5: 7}"
      ]
     },
     "execution_count": 36,
     "metadata": {},
     "output_type": "execute_result"
    }
   ],
   "source": [
    "d[\"key4\"]"
   ]
  },
  {
   "cell_type": "code",
   "execution_count": 37,
   "id": "61c6b6ff",
   "metadata": {},
   "outputs": [
    {
     "data": {
      "text/plain": [
       "7"
      ]
     },
     "execution_count": 37,
     "metadata": {},
     "output_type": "execute_result"
    }
   ],
   "source": [
    "d[\"key4\"][5]"
   ]
  },
  {
   "cell_type": "code",
   "execution_count": 38,
   "id": "27770db8",
   "metadata": {},
   "outputs": [
    {
     "data": {
      "text/plain": [
       "5"
      ]
     },
     "execution_count": 38,
     "metadata": {},
     "output_type": "execute_result"
    }
   ],
   "source": [
    "d[\"key4\"][1]"
   ]
  },
  {
   "cell_type": "code",
   "execution_count": 39,
   "id": "e7b4aa9d",
   "metadata": {},
   "outputs": [
    {
     "data": {
      "text/plain": [
       "{'name': 'tariniprasad',\n",
       " 'mo_no': 32411412,\n",
       " 'mail_id': 'dastprasad@hydh.com',\n",
       " 'key1': [313, 4242, 222, 5],\n",
       " 'key2': (2424, 434, 424),\n",
       " 'key3': {6, 8, 45, 57, 76, 78, 455},\n",
       " 'key4': {1: 5, 5: 7}}"
      ]
     },
     "execution_count": 39,
     "metadata": {},
     "output_type": "execute_result"
    }
   ],
   "source": [
    "d"
   ]
  },
  {
   "cell_type": "code",
   "execution_count": 40,
   "id": "ff8d347a",
   "metadata": {},
   "outputs": [
    {
     "data": {
      "text/plain": [
       "dict_keys(['name', 'mo_no', 'mail_id', 'key1', 'key2', 'key3', 'key4'])"
      ]
     },
     "execution_count": 40,
     "metadata": {},
     "output_type": "execute_result"
    }
   ],
   "source": [
    "d.keys()"
   ]
  },
  {
   "cell_type": "markdown",
   "id": "953ce15f",
   "metadata": {},
   "source": [
    "list of all the keys ."
   ]
  },
  {
   "cell_type": "code",
   "execution_count": 41,
   "id": "8f78fdf9",
   "metadata": {},
   "outputs": [
    {
     "data": {
      "text/plain": [
       "dict_values(['tariniprasad', 32411412, 'dastprasad@hydh.com', [313, 4242, 222, 5], (2424, 434, 424), {6, 455, 8, 76, 45, 78, 57}, {1: 5, 5: 7}])"
      ]
     },
     "execution_count": 41,
     "metadata": {},
     "output_type": "execute_result"
    }
   ],
   "source": [
    "d.values()"
   ]
  },
  {
   "cell_type": "code",
   "execution_count": 43,
   "id": "53650bcb",
   "metadata": {},
   "outputs": [
    {
     "data": {
      "text/plain": [
       "dict_items([('name', 'tariniprasad'), ('mo_no', 32411412), ('mail_id', 'dastprasad@hydh.com'), ('key1', [313, 4242, 222, 5]), ('key2', (2424, 434, 424)), ('key3', {6, 455, 8, 76, 45, 78, 57}), ('key4', {1: 5, 5: 7})])"
      ]
     },
     "execution_count": 43,
     "metadata": {},
     "output_type": "execute_result"
    }
   ],
   "source": [
    "d.items()"
   ]
  },
  {
   "cell_type": "markdown",
   "id": "5fe34af8",
   "metadata": {},
   "source": [
    "gives key and a valuepairinside a list."
   ]
  },
  {
   "cell_type": "code",
   "execution_count": 44,
   "id": "07e2e6e2",
   "metadata": {},
   "outputs": [
    {
     "data": {
      "text/plain": [
       "dict_items"
      ]
     },
     "execution_count": 44,
     "metadata": {},
     "output_type": "execute_result"
    }
   ],
   "source": [
    "type(d.items())"
   ]
  },
  {
   "cell_type": "code",
   "execution_count": 45,
   "id": "47f91967",
   "metadata": {},
   "outputs": [],
   "source": [
    "d={\"key1\":\"sudh\",\"key2\":[1,2,3,4,5]}"
   ]
  },
  {
   "cell_type": "code",
   "execution_count": 46,
   "id": "06060846",
   "metadata": {},
   "outputs": [
    {
     "data": {
      "text/plain": [
       "{'key1': 'sudh', 'key2': [1, 2, 3, 4, 5]}"
      ]
     },
     "execution_count": 46,
     "metadata": {},
     "output_type": "execute_result"
    }
   ],
   "source": [
    "d"
   ]
  },
  {
   "cell_type": "code",
   "execution_count": 47,
   "id": "3dcaf2c7",
   "metadata": {},
   "outputs": [],
   "source": [
    "d[\"key3\"]=\"kumar\""
   ]
  },
  {
   "cell_type": "code",
   "execution_count": 48,
   "id": "1ed43852",
   "metadata": {},
   "outputs": [
    {
     "data": {
      "text/plain": [
       "{'key1': 'sudh', 'key2': [1, 2, 3, 4, 5], 'key3': 'kumar'}"
      ]
     },
     "execution_count": 48,
     "metadata": {},
     "output_type": "execute_result"
    }
   ],
   "source": [
    "d"
   ]
  },
  {
   "cell_type": "code",
   "execution_count": 50,
   "id": "4aebac1b",
   "metadata": {},
   "outputs": [],
   "source": [
    "d[4]=[2,4,43,33,33,4]"
   ]
  },
  {
   "cell_type": "code",
   "execution_count": 51,
   "id": "51fe6c0f",
   "metadata": {},
   "outputs": [
    {
     "data": {
      "text/plain": [
       "{'key1': 'sudh',\n",
       " 'key2': [1, 2, 3, 4, 5],\n",
       " 'key3': 'kumar',\n",
       " 4: [2, 4, 43, 33, 33, 4]}"
      ]
     },
     "execution_count": 51,
     "metadata": {},
     "output_type": "execute_result"
    }
   ],
   "source": [
    "d"
   ]
  },
  {
   "cell_type": "code",
   "execution_count": 52,
   "id": "7259df70",
   "metadata": {},
   "outputs": [],
   "source": [
    "d[\"key1\"]=\"fdsfwfwf\""
   ]
  },
  {
   "cell_type": "code",
   "execution_count": 53,
   "id": "d4e02030",
   "metadata": {},
   "outputs": [
    {
     "data": {
      "text/plain": [
       "{'key1': 'fdsfwfwf',\n",
       " 'key2': [1, 2, 3, 4, 5],\n",
       " 'key3': 'kumar',\n",
       " 4: [2, 4, 43, 33, 33, 4]}"
      ]
     },
     "execution_count": 53,
     "metadata": {},
     "output_type": "execute_result"
    }
   ],
   "source": [
    "d"
   ]
  },
  {
   "cell_type": "markdown",
   "id": "3929a90c",
   "metadata": {},
   "source": [
    "if key isalready available then it will update and if key is not available then it will create."
   ]
  },
  {
   "cell_type": "code",
   "execution_count": 54,
   "id": "ad21a36d",
   "metadata": {},
   "outputs": [],
   "source": [
    "del d[\"key1\"]"
   ]
  },
  {
   "cell_type": "code",
   "execution_count": 55,
   "id": "6f665930",
   "metadata": {},
   "outputs": [
    {
     "data": {
      "text/plain": [
       "{'key2': [1, 2, 3, 4, 5], 'key3': 'kumar', 4: [2, 4, 43, 33, 33, 4]}"
      ]
     },
     "execution_count": 55,
     "metadata": {},
     "output_type": "execute_result"
    }
   ],
   "source": [
    "d"
   ]
  },
  {
   "cell_type": "code",
   "execution_count": 57,
   "id": "2a9d68f6",
   "metadata": {},
   "outputs": [],
   "source": [
    "del d"
   ]
  },
  {
   "cell_type": "code",
   "execution_count": 58,
   "id": "e01bd8cd",
   "metadata": {},
   "outputs": [
    {
     "ename": "NameError",
     "evalue": "name 'd' is not defined",
     "output_type": "error",
     "traceback": [
      "\u001b[0;31m---------------------------------------------------------------------------\u001b[0m",
      "\u001b[0;31mNameError\u001b[0m                                 Traceback (most recent call last)",
      "\u001b[0;32m<ipython-input-58-e983f374794d>\u001b[0m in \u001b[0;36m<module>\u001b[0;34m\u001b[0m\n\u001b[0;32m----> 1\u001b[0;31m \u001b[0md\u001b[0m\u001b[0;34m\u001b[0m\u001b[0;34m\u001b[0m\u001b[0m\n\u001b[0m",
      "\u001b[0;31mNameError\u001b[0m: name 'd' is not defined"
     ]
    }
   ],
   "source": [
    "d"
   ]
  },
  {
   "cell_type": "code",
   "execution_count": 60,
   "id": "e303eb9b",
   "metadata": {},
   "outputs": [],
   "source": [
    "d1={\"key1\":\"sudh\",\"key2\":[44,53,313,53535]}"
   ]
  },
  {
   "cell_type": "code",
   "execution_count": 61,
   "id": "40d4671e",
   "metadata": {},
   "outputs": [
    {
     "ename": "TypeError",
     "evalue": "unhashable type: 'list'",
     "output_type": "error",
     "traceback": [
      "\u001b[0;31m---------------------------------------------------------------------------\u001b[0m",
      "\u001b[0;31mTypeError\u001b[0m                                 Traceback (most recent call last)",
      "\u001b[0;32m<ipython-input-61-76302c0dbdce>\u001b[0m in \u001b[0;36m<module>\u001b[0;34m\u001b[0m\n\u001b[0;32m----> 1\u001b[0;31m \u001b[0md1\u001b[0m\u001b[0;34m[\u001b[0m\u001b[0;34m[\u001b[0m\u001b[0;36m224\u001b[0m\u001b[0;34m,\u001b[0m\u001b[0;36m3453\u001b[0m\u001b[0;34m,\u001b[0m\u001b[0;36m56365\u001b[0m\u001b[0;34m]\u001b[0m\u001b[0;34m]\u001b[0m\u001b[0;34m=\u001b[0m\u001b[0;34m\"y455y45\"\u001b[0m\u001b[0;34m\u001b[0m\u001b[0;34m\u001b[0m\u001b[0m\n\u001b[0m",
      "\u001b[0;31mTypeError\u001b[0m: unhashable type: 'list'"
     ]
    }
   ],
   "source": [
    "d1[[224,3453,56365]]=\"y455y45\""
   ]
  },
  {
   "cell_type": "markdown",
   "id": "601ab60b",
   "metadata": {},
   "source": [
    "a list cant be key."
   ]
  },
  {
   "cell_type": "code",
   "execution_count": 62,
   "id": "f308951e",
   "metadata": {},
   "outputs": [],
   "source": [
    "d1[(224,3453,56365)]=\"y455y45\""
   ]
  },
  {
   "cell_type": "code",
   "execution_count": 63,
   "id": "6de3c35b",
   "metadata": {},
   "outputs": [
    {
     "data": {
      "text/plain": [
       "{'key1': 'sudh', 'key2': [44, 53, 313, 53535], (224, 3453, 56365): 'y455y45'}"
      ]
     },
     "execution_count": 63,
     "metadata": {},
     "output_type": "execute_result"
    }
   ],
   "source": [
    "d1"
   ]
  },
  {
   "cell_type": "markdown",
   "id": "5e7c479f",
   "metadata": {},
   "source": [
    "tuple can be a key\n",
    "so key should be a immutable element."
   ]
  },
  {
   "cell_type": "code",
   "execution_count": 64,
   "id": "0e086223",
   "metadata": {},
   "outputs": [
    {
     "data": {
      "text/plain": [
       "{'key1': 'sudh', 'key2': [44, 53, 313, 53535], (224, 3453, 56365): 'y455y45'}"
      ]
     },
     "execution_count": 64,
     "metadata": {},
     "output_type": "execute_result"
    }
   ],
   "source": [
    "d1"
   ]
  },
  {
   "cell_type": "code",
   "execution_count": 65,
   "id": "9637efd1",
   "metadata": {},
   "outputs": [],
   "source": [
    "d1.get(\"dgdg\")"
   ]
  },
  {
   "cell_type": "code",
   "execution_count": 66,
   "id": "52b4fb91",
   "metadata": {},
   "outputs": [
    {
     "data": {
      "text/plain": [
       "'sudh'"
      ]
     },
     "execution_count": 66,
     "metadata": {},
     "output_type": "execute_result"
    }
   ],
   "source": [
    "d1.get(\"key1\")"
   ]
  },
  {
   "cell_type": "code",
   "execution_count": 67,
   "id": "5e2062c7",
   "metadata": {},
   "outputs": [
    {
     "data": {
      "text/plain": [
       "{'key1': 'sudh', 'key2': [44, 53, 313, 53535], (224, 3453, 56365): 'y455y45'}"
      ]
     },
     "execution_count": 67,
     "metadata": {},
     "output_type": "execute_result"
    }
   ],
   "source": [
    "d1"
   ]
  },
  {
   "cell_type": "code",
   "execution_count": 68,
   "id": "623ccca7",
   "metadata": {},
   "outputs": [],
   "source": [
    "d1.get(\"dgdg\")"
   ]
  },
  {
   "cell_type": "code",
   "execution_count": 69,
   "id": "ea4a3926",
   "metadata": {},
   "outputs": [],
   "source": [
    "d2={\"key2\":33141,\"key3\":[3131,2334234,234]}"
   ]
  },
  {
   "cell_type": "code",
   "execution_count": 72,
   "id": "2a9bf418",
   "metadata": {},
   "outputs": [],
   "source": [
    "d1.update(d2)"
   ]
  },
  {
   "cell_type": "code",
   "execution_count": 73,
   "id": "1ac14aaa",
   "metadata": {},
   "outputs": [
    {
     "data": {
      "text/plain": [
       "{'key1': 'ineuron', 'key': 'fsds', 'key2': 33141, 'key3': [3131, 2334234, 234]}"
      ]
     },
     "execution_count": 73,
     "metadata": {},
     "output_type": "execute_result"
    }
   ],
   "source": [
    "d1"
   ]
  },
  {
   "cell_type": "markdown",
   "id": "a7dc494a",
   "metadata": {},
   "source": [
    "d1 update with d2.akind of APPEND OPERATION in the string"
   ]
  },
  {
   "cell_type": "code",
   "execution_count": 74,
   "id": "524e2c3d",
   "metadata": {},
   "outputs": [
    {
     "data": {
      "text/plain": [
       "{'key2': 33141, 'key3': [3131, 2334234, 234]}"
      ]
     },
     "execution_count": 74,
     "metadata": {},
     "output_type": "execute_result"
    }
   ],
   "source": [
    "d2"
   ]
  },
  {
   "cell_type": "code",
   "execution_count": 75,
   "id": "202ba6cd",
   "metadata": {},
   "outputs": [
    {
     "ename": "TypeError",
     "evalue": "unsupported operand type(s) for +: 'dict' and 'dict'",
     "output_type": "error",
     "traceback": [
      "\u001b[0;31m---------------------------------------------------------------------------\u001b[0m",
      "\u001b[0;31mTypeError\u001b[0m                                 Traceback (most recent call last)",
      "\u001b[0;32m<ipython-input-75-686adf62153a>\u001b[0m in \u001b[0;36m<module>\u001b[0;34m\u001b[0m\n\u001b[0;32m----> 1\u001b[0;31m \u001b[0md1\u001b[0m\u001b[0;34m+\u001b[0m\u001b[0md2\u001b[0m\u001b[0;34m\u001b[0m\u001b[0;34m\u001b[0m\u001b[0m\n\u001b[0m",
      "\u001b[0;31mTypeError\u001b[0m: unsupported operand type(s) for +: 'dict' and 'dict'"
     ]
    }
   ],
   "source": [
    "d1+d2"
   ]
  },
  {
   "cell_type": "code",
   "execution_count": 1,
   "id": "2773e4ac",
   "metadata": {},
   "outputs": [],
   "source": [
    "l=[1,23,2,34]\n",
    "l.append(l)"
   ]
  },
  {
   "cell_type": "code",
   "execution_count": 2,
   "id": "024e7deb",
   "metadata": {},
   "outputs": [
    {
     "data": {
      "text/plain": [
       "[1, 23, 2, 34, [...]]"
      ]
     },
     "execution_count": 2,
     "metadata": {},
     "output_type": "execute_result"
    }
   ],
   "source": [
    "l"
   ]
  },
  {
   "cell_type": "code",
   "execution_count": 3,
   "id": "7fa1366c",
   "metadata": {},
   "outputs": [
    {
     "data": {
      "text/plain": [
       "[1, 23, 2, 34, [...]]"
      ]
     },
     "execution_count": 3,
     "metadata": {},
     "output_type": "execute_result"
    }
   ],
   "source": [
    "l[4]"
   ]
  },
  {
   "cell_type": "code",
   "execution_count": 6,
   "id": "bb66a5f1",
   "metadata": {},
   "outputs": [
    {
     "data": {
      "text/plain": [
       "1"
      ]
     },
     "execution_count": 6,
     "metadata": {},
     "output_type": "execute_result"
    }
   ],
   "source": [
    "t1=(\"aka\",1,2+8j,4,True)\n",
    "t1.index(True)"
   ]
  },
  {
   "cell_type": "code",
   "execution_count": 1,
   "id": "a26749fc",
   "metadata": {},
   "outputs": [
    {
     "ename": "NameError",
     "evalue": "name 'd1' is not defined",
     "output_type": "error",
     "traceback": [
      "\u001b[0;31m---------------------------------------------------------------------------\u001b[0m",
      "\u001b[0;31mNameError\u001b[0m                                 Traceback (most recent call last)",
      "\u001b[0;32m<ipython-input-1-2d3a24957153>\u001b[0m in \u001b[0;36m<module>\u001b[0;34m\u001b[0m\n\u001b[0;32m----> 1\u001b[0;31m \u001b[0md1\u001b[0m\u001b[0;34m\u001b[0m\u001b[0;34m\u001b[0m\u001b[0m\n\u001b[0m",
      "\u001b[0;31mNameError\u001b[0m: name 'd1' is not defined"
     ]
    }
   ],
   "source": [
    "d1"
   ]
  },
  {
   "cell_type": "code",
   "execution_count": 2,
   "id": "f9ef3bc4",
   "metadata": {},
   "outputs": [],
   "source": [
    "d1={\"key1\":[2,3,4,5],\"kumar\":\"sudh\",\"key1\":4244}"
   ]
  },
  {
   "cell_type": "code",
   "execution_count": 3,
   "id": "d8c090b6",
   "metadata": {},
   "outputs": [
    {
     "data": {
      "text/plain": [
       "{'key1': 4244, 'kumar': 'sudh'}"
      ]
     },
     "execution_count": 3,
     "metadata": {},
     "output_type": "execute_result"
    }
   ],
   "source": [
    "d1"
   ]
  },
  {
   "cell_type": "code",
   "execution_count": 4,
   "id": "18465326",
   "metadata": {},
   "outputs": [
    {
     "data": {
      "text/plain": [
       "{'key1': 4244, 'kumar': 'sudh'}"
      ]
     },
     "execution_count": 4,
     "metadata": {},
     "output_type": "execute_result"
    }
   ],
   "source": [
    "d1"
   ]
  },
  {
   "cell_type": "code",
   "execution_count": 5,
   "id": "f9f4b858",
   "metadata": {},
   "outputs": [
    {
     "data": {
      "text/plain": [
       "4244"
      ]
     },
     "execution_count": 5,
     "metadata": {},
     "output_type": "execute_result"
    }
   ],
   "source": [
    "d1.get(\"key1\")"
   ]
  },
  {
   "cell_type": "code",
   "execution_count": 7,
   "id": "af276fac",
   "metadata": {},
   "outputs": [
    {
     "ename": "KeyError",
     "evalue": "'dqd'",
     "output_type": "error",
     "traceback": [
      "\u001b[0;31m---------------------------------------------------------------------------\u001b[0m",
      "\u001b[0;31mKeyError\u001b[0m                                  Traceback (most recent call last)",
      "\u001b[0;32m<ipython-input-7-743aa461e1cf>\u001b[0m in \u001b[0;36m<module>\u001b[0;34m\u001b[0m\n\u001b[0;32m----> 1\u001b[0;31m \u001b[0md1\u001b[0m\u001b[0;34m[\u001b[0m\u001b[0;34m\"dqd\"\u001b[0m\u001b[0;34m]\u001b[0m\u001b[0;34m\u001b[0m\u001b[0;34m\u001b[0m\u001b[0m\n\u001b[0m",
      "\u001b[0;31mKeyError\u001b[0m: 'dqd'"
     ]
    }
   ],
   "source": [
    "d1[\"dqd\"]"
   ]
  },
  {
   "cell_type": "code",
   "execution_count": 8,
   "id": "2093b06f",
   "metadata": {},
   "outputs": [],
   "source": [
    "d1.get(\"dfadfa\")"
   ]
  },
  {
   "cell_type": "code",
   "execution_count": 9,
   "id": "2caf9b75",
   "metadata": {},
   "outputs": [
    {
     "ename": "NameError",
     "evalue": "name 'd2' is not defined",
     "output_type": "error",
     "traceback": [
      "\u001b[0;31m---------------------------------------------------------------------------\u001b[0m",
      "\u001b[0;31mNameError\u001b[0m                                 Traceback (most recent call last)",
      "\u001b[0;32m<ipython-input-9-fe1ba9d06821>\u001b[0m in \u001b[0;36m<module>\u001b[0;34m\u001b[0m\n\u001b[0;32m----> 1\u001b[0;31m \u001b[0md2\u001b[0m\u001b[0;34m\u001b[0m\u001b[0;34m\u001b[0m\u001b[0m\n\u001b[0m",
      "\u001b[0;31mNameError\u001b[0m: name 'd2' is not defined"
     ]
    }
   ],
   "source": [
    "d2"
   ]
  },
  {
   "cell_type": "code",
   "execution_count": 1,
   "id": "58003033",
   "metadata": {},
   "outputs": [
    {
     "ename": "NameError",
     "evalue": "name 'd1' is not defined",
     "output_type": "error",
     "traceback": [
      "\u001b[0;31m---------------------------------------------------------------------------\u001b[0m",
      "\u001b[0;31mNameError\u001b[0m                                 Traceback (most recent call last)",
      "\u001b[0;32m<ipython-input-1-2d3a24957153>\u001b[0m in \u001b[0;36m<module>\u001b[0;34m\u001b[0m\n\u001b[0;32m----> 1\u001b[0;31m \u001b[0md1\u001b[0m\u001b[0;34m\u001b[0m\u001b[0;34m\u001b[0m\u001b[0m\n\u001b[0m",
      "\u001b[0;31mNameError\u001b[0m: name 'd1' is not defined"
     ]
    }
   ],
   "source": [
    "d1"
   ]
  },
  {
   "cell_type": "code",
   "execution_count": 2,
   "id": "f39079a6",
   "metadata": {},
   "outputs": [],
   "source": [
    "d1={\"key1\":[2,3,4,5],\"kumar\":\"sudh\",\"key1\":4244}"
   ]
  },
  {
   "cell_type": "code",
   "execution_count": 3,
   "id": "39b4e8d3",
   "metadata": {},
   "outputs": [
    {
     "data": {
      "text/plain": [
       "{'key1': 4244, 'kumar': 'sudh'}"
      ]
     },
     "execution_count": 3,
     "metadata": {},
     "output_type": "execute_result"
    }
   ],
   "source": [
    "d1"
   ]
  },
  {
   "cell_type": "code",
   "execution_count": 7,
   "id": "190e4a37",
   "metadata": {},
   "outputs": [],
   "source": [
    "key=(\"name\",\"mo_no\",\"email_id\")\n",
    "value=\"sudh\""
   ]
  },
  {
   "cell_type": "code",
   "execution_count": 8,
   "id": "eefd2bcf",
   "metadata": {},
   "outputs": [],
   "source": [
    "d=d1.fromkeys(key,value)"
   ]
  },
  {
   "cell_type": "code",
   "execution_count": 9,
   "id": "43c68f49",
   "metadata": {},
   "outputs": [
    {
     "data": {
      "text/plain": [
       "{'name': 'sudh', 'mo_no': 'sudh', 'email_id': 'sudh'}"
      ]
     },
     "execution_count": 9,
     "metadata": {},
     "output_type": "execute_result"
    }
   ],
   "source": [
    "d"
   ]
  },
  {
   "cell_type": "code",
   "execution_count": 10,
   "id": "5789c6db",
   "metadata": {},
   "outputs": [],
   "source": [
    "s=(2,2,2,2244,44,4,44,4565,7477,66,67,66,66,66)"
   ]
  },
  {
   "cell_type": "code",
   "execution_count": 11,
   "id": "6ad2e400",
   "metadata": {},
   "outputs": [
    {
     "data": {
      "text/plain": [
       "(2, 2, 2, 2244, 44, 4, 44, 4565, 7477, 66, 67, 66, 66, 66)"
      ]
     },
     "execution_count": 11,
     "metadata": {},
     "output_type": "execute_result"
    }
   ],
   "source": [
    "s"
   ]
  },
  {
   "cell_type": "code",
   "execution_count": 12,
   "id": "86694f13",
   "metadata": {},
   "outputs": [
    {
     "data": {
      "text/plain": [
       "tuple"
      ]
     },
     "execution_count": 12,
     "metadata": {},
     "output_type": "execute_result"
    }
   ],
   "source": [
    "type(s)"
   ]
  },
  {
   "cell_type": "code",
   "execution_count": 13,
   "id": "17c10aa8",
   "metadata": {},
   "outputs": [],
   "source": [
    "s={2,2,2,2244,44,4,44,4565,7477,66,67,66,66,66}"
   ]
  },
  {
   "cell_type": "code",
   "execution_count": 14,
   "id": "3ee3cd47",
   "metadata": {},
   "outputs": [
    {
     "data": {
      "text/plain": [
       "{2, 4, 44, 66, 67, 2244, 4565, 7477}"
      ]
     },
     "execution_count": 14,
     "metadata": {},
     "output_type": "execute_result"
    }
   ],
   "source": [
    "s"
   ]
  },
  {
   "cell_type": "code",
   "execution_count": 15,
   "id": "46eef8c9",
   "metadata": {},
   "outputs": [
    {
     "data": {
      "text/plain": [
       "set"
      ]
     },
     "execution_count": 15,
     "metadata": {},
     "output_type": "execute_result"
    }
   ],
   "source": [
    "type(s)"
   ]
  },
  {
   "cell_type": "code",
   "execution_count": 20,
   "id": "65525d3c",
   "metadata": {},
   "outputs": [],
   "source": [
    "d={\"342342\":235252}"
   ]
  },
  {
   "cell_type": "code",
   "execution_count": 24,
   "id": "5159acae",
   "metadata": {},
   "outputs": [
    {
     "data": {
      "text/plain": [
       "235252"
      ]
     },
     "execution_count": 24,
     "metadata": {},
     "output_type": "execute_result"
    }
   ],
   "source": [
    "d[\"342342\"]"
   ]
  },
  {
   "cell_type": "code",
   "execution_count": 25,
   "id": "047e5065",
   "metadata": {},
   "outputs": [
    {
     "data": {
      "text/plain": [
       "1"
      ]
     },
     "execution_count": 25,
     "metadata": {},
     "output_type": "execute_result"
    }
   ],
   "source": [
    "len(d)"
   ]
  },
  {
   "cell_type": "code",
   "execution_count": null,
   "id": "e3456ea4",
   "metadata": {},
   "outputs": [],
   "source": []
  }
 ],
 "metadata": {
  "kernelspec": {
   "display_name": "Python 3",
   "language": "python",
   "name": "python3"
  },
  "language_info": {
   "codemirror_mode": {
    "name": "ipython",
    "version": 3
   },
   "file_extension": ".py",
   "mimetype": "text/x-python",
   "name": "python",
   "nbconvert_exporter": "python",
   "pygments_lexer": "ipython3",
   "version": "3.6.15"
  }
 },
 "nbformat": 4,
 "nbformat_minor": 5
}
